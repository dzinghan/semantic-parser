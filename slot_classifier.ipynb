{
  "nbformat": 4,
  "nbformat_minor": 0,
  "metadata": {
    "colab": {
      "name": "slot_classifier.ipynb",
      "provenance": [],
      "collapsed_sections": []
    },
    "kernelspec": {
      "name": "python3",
      "display_name": "Python 3"
    },
    "accelerator": "GPU"
  },
  "cells": [
    {
      "cell_type": "markdown",
      "metadata": {
        "id": "UShw7ULDcOwU"
      },
      "source": [
        "# Semantic Parsing\n",
        "\n",
        "We will train our own intent classifier and slot filler given a list of training questions. We will then test the model using some test questions by comparing the predicted intent and slot with the answers."
      ]
    },
    {
      "cell_type": "code",
      "metadata": {
        "id": "Dj2nWqZ9dZUs"
      },
      "source": [
        "parser_files = \"semantic-parser\""
      ],
      "execution_count": null,
      "outputs": []
    },
    {
      "cell_type": "code",
      "metadata": {
        "id": "LbtOC6eecMNp",
        "colab": {
          "base_uri": "https://localhost:8080/"
        },
        "outputId": "11bb3d59-1c99-4ecc-ceef-defd2e9af62c"
      },
      "source": [
        "import json\n",
        "\n",
        "train_data = []\n",
        "for line in open(f'{parser_files}/train_questions_answers.txt'):\n",
        "    train_data.append(json.loads(line))\n",
        "\n",
        "# print a few examples\n",
        "for i in range(5):\n",
        "    print(train_data[i])\n",
        "    print(\"-\"*80)"
      ],
      "execution_count": null,
      "outputs": [
        {
          "output_type": "stream",
          "name": "stdout",
          "text": [
            "{'question': 'Add an album to my Sylvia Plath playlist.', 'intent': 'AddToPlaylist', 'slots': {'music_item': 'album', 'playlist_owner': 'my', 'playlist': 'Sylvia Plath'}}\n",
            "--------------------------------------------------------------------------------\n",
            "{'question': 'add Diarios de Bicicleta to my la la playlist', 'intent': 'AddToPlaylist', 'slots': {'playlist': 'Diarios de Bicicleta', 'playlist_owner': 'my', 'entity_name': 'la la'}}\n",
            "--------------------------------------------------------------------------------\n",
            "{'question': 'book a table at a restaurant in Lucerne Valley that serves chicken nugget', 'intent': 'BookRestaurant', 'slots': {'restaurant_type': 'restaurant', 'city': 'Lucerne Valley', 'served_dish': 'chicken nugget'}}\n",
            "--------------------------------------------------------------------------------\n",
            "{'question': 'add iemand als jij to my playlist named In The Name Of Blues', 'intent': 'AddToPlaylist', 'slots': {'entity_name': 'iemand als jij', 'playlist_owner': 'my', 'playlist': 'In The Name Of Blues'}}\n",
            "--------------------------------------------------------------------------------\n",
            "{'question': 'What will the weather be in the current position on Dec. 23?', 'intent': 'GetWeather', 'slots': {'current_location': 'current position', 'timeRange': 'Dec. 23'}}\n",
            "--------------------------------------------------------------------------------\n"
          ]
        }
      ]
    },
    {
      "cell_type": "code",
      "metadata": {
        "id": "BMV-NkkAb6X3",
        "colab": {
          "base_uri": "https://localhost:8080/"
        },
        "outputId": "101135bd-df7a-43bd-b1b0-08aafa27923c"
      },
      "source": [
        "test_questions = []\n",
        "for line in open(f'{parser_files}/test_questions.txt'):\n",
        "    test_questions.append(json.loads(line))\n",
        "\n",
        "test_answers = []\n",
        "for line in open(f'{parser_files}/test_answers.txt'):\n",
        "    test_answers.append(json.loads(line))\n",
        "\n",
        "# print a few examples\n",
        "for i in range(5):\n",
        "    print(test_questions[i])\n",
        "    print(test_answers[i])\n",
        "    print(\"-\"*80)"
      ],
      "execution_count": null,
      "outputs": [
        {
          "output_type": "stream",
          "name": "stdout",
          "text": [
            "Add an artist to Jukebox Boogie Rhythm & Blues\n",
            "{'intent': 'AddToPlaylist', 'slots': {'music_item': 'artist', 'playlist': 'Jukebox Boogie Rhythm & Blues'}}\n",
            "--------------------------------------------------------------------------------\n",
            "Will it be rainy at Sunrise in Ramey Saudi Arabia?\n",
            "{'intent': 'GetWeather', 'slots': {'condition_description': 'rainy', 'timeRange': 'Sunrise', 'city': 'Ramey', 'country': 'Saudi Arabia'}}\n",
            "--------------------------------------------------------------------------------\n",
            "Weather in two hours  in Uzbekistan\n",
            "{'intent': 'GetWeather', 'slots': {'timeRange': 'in two hours', 'country': 'Uzbekistan'}}\n",
            "--------------------------------------------------------------------------------\n",
            "Will there be a cloud in VI in 14 minutes ?\n",
            "{'intent': 'GetWeather', 'slots': {'condition_description': 'cloud', 'state': 'VI', 'timeRange': 'in 14 minutes'}}\n",
            "--------------------------------------------------------------------------------\n",
            "add nuba to my Metal Party playlist\n",
            "{'intent': 'AddToPlaylist', 'slots': {'entity_name': 'nuba', 'playlist_owner': 'my', 'playlist': 'Metal Party'}}\n",
            "--------------------------------------------------------------------------------\n"
          ]
        }
      ]
    },
    {
      "cell_type": "code",
      "metadata": {
        "id": "fIOcz3lC4VqP",
        "colab": {
          "base_uri": "https://localhost:8080/"
        },
        "outputId": "43c47100-eed1-4d7b-c8a7-817709c13c25"
      },
      "source": [
        "# List of all intents\n",
        "intents = set()\n",
        "for example in train_data:\n",
        "    intents.add(example['intent'])\n",
        "print(intents)"
      ],
      "execution_count": null,
      "outputs": [
        {
          "output_type": "stream",
          "name": "stdout",
          "text": [
            "{'BookRestaurant', 'AddToPlaylist', 'GetWeather'}\n"
          ]
        }
      ]
    },
    {
      "cell_type": "markdown",
      "source": [
        "## 1: Keyword intent classifier\n",
        "\n",
        "In this part, we will build a keyword-based intent classifier. For each intent, we extract a list of keywords that are important for that intent using the training data, and then we classify a given question into an intent using keywords. We will use the top 10 keywords. If an input question matches multiple intents, the best one is picked. If it does not match any keyword, it returns `None`."
      ],
      "metadata": {
        "id": "Fs0sh3poY7lD"
      }
    },
    {
      "cell_type": "code",
      "metadata": {
        "id": "LmpLWuCO46NG"
      },
      "source": [
        "import re\n",
        "\n",
        "# load stop words\n",
        "stop_words = set()\n",
        "words = open(\"/content/drive/My Drive/tweets/stop_words.txt\", \"r\").read().split(\"\\n\")\n",
        "for word in words:\n",
        "  stop_words.add(word.strip())\n",
        "\n",
        "\n",
        "def predict_intent_using_keywords(question):\n",
        "\n",
        "  intent_dict = {} # used to store questions\n",
        "  #preprocess\n",
        "  for original_q in train_data:\n",
        "    qu = original_q['question']\n",
        "    qu = qu.lower() #lowercase the questions\n",
        "    qu = re.sub(\"(\\\\d|\\\\W)+\", \" \", qu)\n",
        "    qu = qu.split()\n",
        "    qu = [q for q in qu if (q not in stop_words)] #remove punct and stop words\n",
        "\n",
        "    #add question to intent dict\n",
        "    if original_q['intent'] not in intent_dict:\n",
        "      intent_dict[original_q['intent']] = [qu]\n",
        "    else:\n",
        "      intent_dict[original_q['intent']].append(qu)\n",
        "\n",
        "  # count frequencies\n",
        "  freq_list = []\n",
        "  for i in intents: #initialize frequency counter\n",
        "    freq = {}\n",
        "    for q in intent_dict[i]:\n",
        "      #print(q)\n",
        "      for w in q:\n",
        "        #print(w)\n",
        "        if w in freq:\n",
        "          freq[w] += 1\n",
        "        else:\n",
        "          freq[w] = 1\n",
        "    freq_list.append(freq)\n",
        "\n",
        "  #sort frequencies\n",
        "  for i in range(len(freq_list)):\n",
        "    freq_list[i] = dict(sorted(freq_list[i].items(), key=lambda item: item[1], reverse = True)[:10]) #take the top 10 keywords for each intent\n",
        "\n",
        "\n",
        "  #preprocess question\n",
        "  qu = question.lower() #lowercase the questions\n",
        "  qu = re.sub(\"(\\\\d|\\\\W)+\", \" \", qu)\n",
        "  qu = qu.split()\n",
        "  qu = [q for q in qu if (q not in stop_words)] #remove punct and stop words\n",
        "\n",
        "  #count the score\n",
        "  score_list = []\n",
        "  for f in freq_list:\n",
        "    score = 0\n",
        "    for q in qu:\n",
        "      if q in f: #if word in question is in intent freq list\n",
        "        score += f[q]\n",
        "    score_list.append(score)\n",
        "\n",
        "  if max(score_list) == 0:\n",
        "    return None\n",
        "  else:\n",
        "    return list(intents)[score_list.index(max(score_list))] #get the intent which matches the most keywords\n"
      ],
      "execution_count": null,
      "outputs": []
    },
    {
      "cell_type": "code",
      "metadata": {
        "colab": {
          "base_uri": "https://localhost:8080/"
        },
        "id": "BSNHoHR16jk9",
        "outputId": "9bbe1fcd-1b12-4eb2-af6c-4ec1d1a33edc"
      },
      "source": [
        "from collections import Counter\n",
        "\n",
        "'''Gives intent wise accuracy of your model'''\n",
        "def evaluate_intent_accuracy(prediction_function_name):\n",
        "  correct = Counter()\n",
        "  total = Counter()\n",
        "  for i in range(len(test_questions)):\n",
        "    q = test_questions[i]\n",
        "    gold_intent = test_answers[i]['intent']\n",
        "    if prediction_function_name(q) == gold_intent:\n",
        "      correct[gold_intent] += 1\n",
        "    total[gold_intent] += 1\n",
        "  for intent in intents:\n",
        "    print(intent, correct[intent]/total[intent], total[intent])\n",
        "    \n",
        "# Evaluating the intent classifier. \n",
        "evaluate_intent_accuracy(predict_intent_using_keywords)"
      ],
      "execution_count": null,
      "outputs": [
        {
          "output_type": "stream",
          "name": "stdout",
          "text": [
            "BookRestaurant 0.99 100\n",
            "AddToPlaylist 1.0 100\n",
            "GetWeather 0.75 100\n"
          ]
        }
      ]
    },
    {
      "cell_type": "markdown",
      "source": [
        "We see that our keyword based classifier has achieved an accuracy of over 0.75 for each intent. This is fair, because there are only 3 intents and each intent's keywords are different between them. If we increase the number of keywords, we can see the accuracy getting closer to 1 too."
      ],
      "metadata": {
        "id": "5b1O1bkWEi9i"
      }
    },
    {
      "cell_type": "markdown",
      "metadata": {
        "id": "RzV5NYJe-rbm"
      },
      "source": [
        "## 2: Statistical intent classifier"
      ]
    },
    {
      "cell_type": "markdown",
      "metadata": {
        "id": "jizp2fxbb6X5"
      },
      "source": [
        "Now, let's build a statistical intent classifier. Instead of making use of keywords, we will first extract features from a given input question. In order to build a feature representation for a given sentence, we will use the word2vec embeddings of each word and take an average to represent the sentence. Then we will train a logistic regression model."
      ]
    },
    {
      "cell_type": "code",
      "metadata": {
        "colab": {
          "base_uri": "https://localhost:8080/"
        },
        "id": "GPd4QZBhGOsm",
        "outputId": "0919ec57-9c04-4bc7-c173-938b502aed0e"
      },
      "source": [
        "import nltk\n",
        "nltk.download('word2vec_sample')"
      ],
      "execution_count": null,
      "outputs": [
        {
          "output_type": "stream",
          "name": "stdout",
          "text": [
            "[nltk_data] Downloading package word2vec_sample to /root/nltk_data...\n",
            "[nltk_data]   Unzipping models/word2vec_sample.zip.\n"
          ]
        },
        {
          "output_type": "execute_result",
          "data": {
            "text/plain": [
              "True"
            ]
          },
          "metadata": {},
          "execution_count": 9
        }
      ]
    },
    {
      "cell_type": "code",
      "metadata": {
        "id": "8iys8Cb3An3x"
      },
      "source": [
        "from nltk.data import find\n",
        "import gensim\n",
        "\n",
        "word2vec_sample = str(find('models/word2vec_sample/pruned.word2vec.txt'))\n",
        "word2vec_model = gensim.models.KeyedVectors.load_word2vec_format(word2vec_sample, binary=False)"
      ],
      "execution_count": null,
      "outputs": []
    },
    {
      "cell_type": "code",
      "metadata": {
        "id": "mpk3_JtMb6X6"
      },
      "source": [
        "from sklearn.linear_model import LogisticRegression\n",
        "import numpy as np\n",
        "\n",
        "'''Trains a logistic regression model on the entire training data. For an input question (x), the model learns to predict an intent (Y).'''\n",
        "def train_logistic_regression_intent_classifier():\n",
        "    lr = LogisticRegression()\n",
        "\n",
        "    vectors = []\n",
        "    intents_list = []\n",
        "    #preprocess questions\n",
        "    for original_q in train_data:\n",
        "      intents_list.append(list(intents).index(original_q['intent'])) #get intent\n",
        "      qu = original_q['question']\n",
        "      qu = qu.lower() #lowercase the questions\n",
        "      qu = re.sub(\"(\\\\d|\\\\W)+\", \" \", qu)\n",
        "      qu = qu.split()\n",
        "      qu = [q for q in qu if (q not in stop_words)] #remove punct and stop words\n",
        "      \n",
        "      avg_representation = [] #to store the averages of embeddings for each question\n",
        "\n",
        "      #get word embedding for each word in question\n",
        "      for w in qu:\n",
        "        if w in word2vec_model:\n",
        "          avg_representation.append(word2vec_model[w])\n",
        "        else:\n",
        "          avg_representation.append(np.zeros(word2vec_model.vector_size))\n",
        "\n",
        "      vectors.append(np.mean(np.array(avg_representation), axis=0)) #calculate the averages\n",
        "\n",
        "    return lr.fit(vectors, intents_list)"
      ],
      "execution_count": null,
      "outputs": []
    },
    {
      "cell_type": "code",
      "metadata": {
        "id": "q_1lHAw9b6X6"
      },
      "source": [
        "'''For an input question, the model predicts an intent'''\n",
        "def predict_intent_using_logistic_regression(question):\n",
        "    lr = train_logistic_regression_intent_classifier()\n",
        "\n",
        "    #preprocess question\n",
        "    qu = question.lower() #lowercase the questions\n",
        "    qu = re.sub(\"(\\\\d|\\\\W)+\", \" \", qu)\n",
        "    qu = qu.split()\n",
        "    qu = [q for q in qu if (q not in stop_words)] #remove punct and stop words\n",
        "      \n",
        "    avg_representation = [] #to store the averages of embeddings for each question\n",
        "\n",
        "    #get word embedding for each word in question\n",
        "    for w in qu:\n",
        "      if w in word2vec_model:\n",
        "        avg_representation.append(word2vec_model[w])\n",
        "      else:\n",
        "        avg_representation.append(np.zeros(word2vec_model.vector_size))\n",
        "    \n",
        "    return list(intents)[lr.predict(np.mean(avg_representation, axis=0).reshape(1,-1))[0]]"
      ],
      "execution_count": null,
      "outputs": []
    },
    {
      "cell_type": "code",
      "metadata": {
        "id": "yBwjBJoUb6X7",
        "colab": {
          "base_uri": "https://localhost:8080/"
        },
        "outputId": "b0adcaad-7e8f-4137-dab7-41a70f153fe3"
      },
      "source": [
        "# Evaluate the intent classifier\n",
        "evaluate_intent_accuracy(predict_intent_using_logistic_regression)"
      ],
      "execution_count": null,
      "outputs": [
        {
          "output_type": "stream",
          "name": "stdout",
          "text": [
            "AddToPlaylist 1.0 100\n",
            "BookRestaurant 1.0 100\n",
            "GetWeather 0.98 100\n"
          ]
        }
      ]
    },
    {
      "cell_type": "markdown",
      "source": [
        "All 3 intents have accuracies close to 100%, which indicated a better performance than the keyword classifier. Word2vec takes the whole word embeddings into account to train the logistic regression, which gives us a more balanced model than just counting frequent words for each intent. "
      ],
      "metadata": {
        "id": "jtaR9sjDZk9_"
      }
    },
    {
      "cell_type": "markdown",
      "metadata": {
        "id": "UUnGNOHNXbSN"
      },
      "source": [
        "## 3: Slot filling"
      ]
    },
    {
      "cell_type": "markdown",
      "metadata": {
        "id": "ONXIMs6_b6X7"
      },
      "source": [
        "We will now build a slot filling model. For now, we will only focus on the `AddToPlaylist` intent.\n",
        "\n",
        "We are going to try to use ideas like maximum string matching to identify which slots are active and what their values are."
      ]
    },
    {
      "cell_type": "code",
      "metadata": {
        "id": "xpg1x-qeb6X7",
        "colab": {
          "base_uri": "https://localhost:8080/"
        },
        "outputId": "0131d4b2-d716-4ba8-9147-59eee18cdf82"
      },
      "source": [
        "# Let's stick to one target intent.\n",
        "target_intent = \"AddToPlaylist\"\n",
        "\n",
        "# This intent has the following slots\n",
        "target_intent_slot_names = set()\n",
        "for sample in train_data:\n",
        "    if sample['intent'] == target_intent:\n",
        "        for slot_name in sample['slots']:\n",
        "            target_intent_slot_names.add(slot_name)\n",
        "print(target_intent_slot_names)\n",
        "\n",
        "\n",
        "# Extract all the relevant questions of this target intent from the test examples.\n",
        "target_intent_questions = []\n",
        "for i, question in enumerate(test_questions):\n",
        "    if test_answers[i]['intent'] == target_intent:\n",
        "        target_intent_questions.append(question)\n",
        "print(len(target_intent_questions))"
      ],
      "execution_count": null,
      "outputs": [
        {
          "output_type": "stream",
          "name": "stdout",
          "text": [
            "{'playlist_owner', 'entity_name', 'music_item', 'artist', 'playlist'}\n",
            "100\n"
          ]
        }
      ]
    },
    {
      "cell_type": "code",
      "metadata": {
        "id": "A7_ldSKob6X8",
        "colab": {
          "base_uri": "https://localhost:8080/"
        },
        "outputId": "b20bf30f-316e-4346-8896-36c5c6ac3314"
      },
      "source": [
        "def initialize_slots():\n",
        "    slots = {}\n",
        "    for slot_name in target_intent_slot_names:\n",
        "        slots[slot_name] = None\n",
        "    return slots\n",
        "\n",
        "def get_slot_values(): #get a list of values for each slot\n",
        "    slot_values = {}\n",
        "    for slot_name in target_intent_slot_names:\n",
        "      slot_values[slot_name] = set()\n",
        "      for question in train_data:\n",
        "        if question['intent'] == 'AddToPlaylist':\n",
        "          if slot_name in question['slots']:\n",
        "            slot_values[slot_name].add(question['slots'][slot_name].lower())\n",
        "    return slot_values\n",
        "\n",
        "\n",
        "def predict_slot_values(question):\n",
        "    slots = initialize_slots()  \n",
        "    slot_values = get_slot_values() \n",
        "    for slot_name in target_intent_slot_names:\n",
        "        # idenfity the slot value. By default, they are initialized to None.\n",
        "        values = slot_values[slot_name]\n",
        "        for v in values:\n",
        "          if v in question.lower():\n",
        "            slots[slot_name] = v\n",
        "\n",
        "    return slots\n",
        "\n",
        "def evaluate_slot_prediction_recall(slot_prediction_function):\n",
        "    correct = Counter()\n",
        "    total = Counter()\n",
        "    # predict slots for each question\n",
        "    for i, question in enumerate(target_intent_questions):\n",
        "        i = test_questions.index(question) \n",
        "        gold_slots = test_answers[i]['slots']\n",
        "        predicted_slots = slot_prediction_function(question)\n",
        "        for name in target_intent_slot_names:\n",
        "            if name in gold_slots:\n",
        "                total[name] += 1.0\n",
        "                if predicted_slots.get(name, None) != None and predicted_slots.get(name).lower() == gold_slots.get(name).lower(): # This line is updated after the assignment release\n",
        "                    correct[name] += 1.0\n",
        "    for name in target_intent_slot_names:\n",
        "        print(f\"{name}: {correct[name] / total[name]}\")\n",
        "\n",
        "\n",
        "# Our reference implementation got these numbers. You can ask others on Slack what they got.\n",
        "# music_item 1.0\n",
        "# playlist 0.67\n",
        "# artist  0.021739130434782608\n",
        "# playlist_owner 0.9444444444444444\n",
        "# entity_name 0.05555555555555555\n",
        "\n",
        "print(\"Slot accuracy for your slot prediction model\")\n",
        "evaluate_slot_prediction_recall(predict_slot_values)\n"
      ],
      "execution_count": null,
      "outputs": [
        {
          "output_type": "stream",
          "name": "stdout",
          "text": [
            "Slot accuracy for your slot prediction model\n",
            "playlist_owner: 0.9444444444444444\n",
            "entity_name: 0.05555555555555555\n",
            "music_item: 1.0\n",
            "artist: 0.13043478260869565\n",
            "playlist: 0.75\n"
          ]
        }
      ]
    },
    {
      "cell_type": "markdown",
      "source": [
        "From the result above, it looks like maximum string matching works for some slots which can only take a limited amount of items such as the music item. However, this method does not work the best for slots like entity name and artist, because these fields are mostly names and can vary a lot. A better method to fill these slots could be to use neural networks for a better understanding of the pattern."
      ],
      "metadata": {
        "id": "mTK39sHSccWO"
      }
    },
    {
      "cell_type": "markdown",
      "source": [
        "We will now look at some true positives, false positives, true negatives, and false negatives."
      ],
      "metadata": {
        "id": "ULEx7z6UcgYu"
      }
    },
    {
      "cell_type": "code",
      "metadata": {
        "id": "Lm4reFpdb6X8",
        "colab": {
          "base_uri": "https://localhost:8080/"
        },
        "outputId": "8b023fb8-def7-4d35-d490-6d7385ca63f5"
      },
      "source": [
        "# Find a true positive prediction for each slot\n",
        "def true_positive(slot):\n",
        "  for i, question in enumerate(target_intent_questions):\n",
        "    i = test_questions.index(question)\n",
        "    gold_slots = test_answers[i]['slots']\n",
        "    predicted_slots = predict_slot_values(question)\n",
        "    if slot in gold_slots:\n",
        "      if predicted_slots.get(slot, None) != None:\n",
        "        print(\"Question: \", end='')\n",
        "        print(question)\n",
        "        print(\"Gold answer: \", end='')\n",
        "        print(gold_slots)\n",
        "        print(\"Predicted: \", end='')\n",
        "        print({slot: predicted_slots[slot]})\n",
        "        print()\n",
        "        break\n",
        "\n",
        "for slot_name in target_intent_slot_names:\n",
        "  true_positive(slot_name)"
      ],
      "execution_count": null,
      "outputs": [
        {
          "output_type": "stream",
          "name": "stdout",
          "text": [
            "Question: add nuba to my Metal Party playlist\n",
            "Gold answer: {'entity_name': 'nuba', 'playlist_owner': 'my', 'playlist': 'Metal Party'}\n",
            "Predicted: {'playlist_owner': 'my'}\n",
            "\n",
            "Question: Add give us rest to my 70s Smash Hits playlist.\n",
            "Gold answer: {'entity_name': 'give us rest', 'playlist_owner': 'my', 'playlist': '70s Smash Hits'}\n",
            "Predicted: {'entity_name': 'give us rest'}\n",
            "\n",
            "Question: Add an artist to Jukebox Boogie Rhythm & Blues\n",
            "Gold answer: {'music_item': 'artist', 'playlist': 'Jukebox Boogie Rhythm & Blues'}\n",
            "Predicted: {'music_item': 'artist'}\n",
            "\n",
            "Question: Add Roel van Velzen to my party of the century playlist.\n",
            "Gold answer: {'artist': 'Roel van Velzen', 'playlist_owner': 'my', 'playlist': 'party of the century'}\n",
            "Predicted: {'artist': 'roel van velzen'}\n",
            "\n",
            "Question: Add an artist to Jukebox Boogie Rhythm & Blues\n",
            "Gold answer: {'music_item': 'artist', 'playlist': 'Jukebox Boogie Rhythm & Blues'}\n",
            "Predicted: {'playlist': 'blues'}\n",
            "\n"
          ]
        }
      ]
    },
    {
      "cell_type": "code",
      "metadata": {
        "id": "TUo4NblMb6X8",
        "colab": {
          "base_uri": "https://localhost:8080/"
        },
        "outputId": "6c708d1e-5794-4d98-9d25-c2853f02d362"
      },
      "source": [
        "# Find a false positive prediction for each slot\n",
        "\n",
        "def false_positive(slot):\n",
        "  for i, question in enumerate(target_intent_questions):\n",
        "    i = test_questions.index(question)\n",
        "    gold_slots = test_answers[i]['slots']\n",
        "    predicted_slots = predict_slot_values(question)\n",
        "    if slot not in gold_slots and predicted_slots[slot] != None:\n",
        "      print(\"Question: \", end='')\n",
        "      print(question)\n",
        "      print(\"Gold answer: \", end='')\n",
        "      print(gold_slots)\n",
        "      print(\"Predicted: \", end='')\n",
        "      print({slot: predicted_slots[slot]})\n",
        "      print()\n",
        "      break\n",
        "\n",
        "for slot_name in target_intent_slot_names:\n",
        "  false_positive(slot_name)"
      ],
      "execution_count": null,
      "outputs": [
        {
          "output_type": "stream",
          "name": "stdout",
          "text": [
            "Question: add tommy johnson to The MetalSucks Playlist\n",
            "Gold answer: {'artist': 'tommy johnson', 'playlist': 'The MetalSucks Playlist'}\n",
            "Predicted: {'playlist_owner': 'my'}\n",
            "\n",
            "Question: Can you put this song from Yutaka Ozaki onto my this is miles davis playlist?\n",
            "Gold answer: {'music_item': 'song', 'artist': 'Yutaka Ozaki', 'playlist_owner': 'my', 'playlist': 'this is miles davis'}\n",
            "Predicted: {'entity_name': 'om'}\n",
            "\n",
            "Question: add ireland in the junior eurovision song contest 2015 to my Jazzy Dinner playlist\n",
            "Gold answer: {'entity_name': 'ireland in the junior eurovision song contest 2015', 'playlist_owner': 'my', 'playlist': 'Jazzy Dinner'}\n",
            "Predicted: {'music_item': 'song'}\n",
            "\n"
          ]
        }
      ]
    },
    {
      "cell_type": "code",
      "metadata": {
        "id": "yQjb1-TCb6X8",
        "colab": {
          "base_uri": "https://localhost:8080/"
        },
        "outputId": "a39e2533-94eb-4922-c09b-e9df5c0ec23e"
      },
      "source": [
        "# Find a true negative prediction for each slot\n",
        "\n",
        "def true_negative(slot):\n",
        "  for i, question in enumerate(target_intent_questions):\n",
        "    i = test_questions.index(question)\n",
        "    gold_slots = test_answers[i]['slots']\n",
        "    predicted_slots = predict_slot_values(question)\n",
        "    if slot not in gold_slots:\n",
        "      if predicted_slots.get(slot, None) == None:\n",
        "        print(\"Question: \", end='')\n",
        "        print(question)\n",
        "        print(\"Gold answer: \", end='')\n",
        "        print(gold_slots)\n",
        "        print(\"Predicted: \", end='')\n",
        "        print({slot: predicted_slots[slot]})\n",
        "        print()\n",
        "        break\n",
        "\n",
        "for slot_name in target_intent_slot_names:\n",
        "  true_negative(slot_name)"
      ],
      "execution_count": null,
      "outputs": [
        {
          "output_type": "stream",
          "name": "stdout",
          "text": [
            "Question: Add an artist to Jukebox Boogie Rhythm & Blues\n",
            "Gold answer: {'music_item': 'artist', 'playlist': 'Jukebox Boogie Rhythm & Blues'}\n",
            "Predicted: {'playlist_owner': None}\n",
            "\n",
            "Question: Add an artist to Jukebox Boogie Rhythm & Blues\n",
            "Gold answer: {'music_item': 'artist', 'playlist': 'Jukebox Boogie Rhythm & Blues'}\n",
            "Predicted: {'entity_name': None}\n",
            "\n",
            "Question: add nuba to my Metal Party playlist\n",
            "Gold answer: {'entity_name': 'nuba', 'playlist_owner': 'my', 'playlist': 'Metal Party'}\n",
            "Predicted: {'music_item': None}\n",
            "\n",
            "Question: Add an artist to Jukebox Boogie Rhythm & Blues\n",
            "Gold answer: {'music_item': 'artist', 'playlist': 'Jukebox Boogie Rhythm & Blues'}\n",
            "Predicted: {'artist': None}\n",
            "\n"
          ]
        }
      ]
    },
    {
      "cell_type": "code",
      "metadata": {
        "id": "UJHTfEMqb6X8",
        "colab": {
          "base_uri": "https://localhost:8080/"
        },
        "outputId": "0e05949d-dee0-49b1-db14-f32afaa6347a"
      },
      "source": [
        "# Find a false negative prediction for each slot\n",
        "\n",
        "def false_negative(slot):\n",
        "  for i, question in enumerate(target_intent_questions):\n",
        "    i = test_questions.index(question)\n",
        "    gold_slots = test_answers[i]['slots']\n",
        "    predicted_slots = predict_slot_values(question)\n",
        "    if slot in gold_slots:\n",
        "      if predicted_slots.get(slot, None) == None:\n",
        "        print(\"Question: \", end='')\n",
        "        print(question)\n",
        "        print(\"Gold answer: \", end='')\n",
        "        print(gold_slots)\n",
        "        print(\"Predicted: \", end='')\n",
        "        print({slot: predicted_slots[slot]})\n",
        "        print()\n",
        "        break\n",
        "\n",
        "for slot_name in target_intent_slot_names:\n",
        "  false_negative(slot_name)"
      ],
      "execution_count": null,
      "outputs": [
        {
          "output_type": "stream",
          "name": "stdout",
          "text": [
            "Question: Onto jerry's Classical Moments in Movies, please add the album.\n",
            "Gold answer: {'playlist_owner': \"jerry's\", 'playlist': 'Classical Moments in Movies', 'music_item': 'album'}\n",
            "Predicted: {'playlist_owner': None}\n",
            "\n",
            "Question: add nuba to my Metal Party playlist\n",
            "Gold answer: {'entity_name': 'nuba', 'playlist_owner': 'my', 'playlist': 'Metal Party'}\n",
            "Predicted: {'entity_name': None}\n",
            "\n",
            "Question: Can you put this song from Yutaka Ozaki onto my this is miles davis playlist?\n",
            "Gold answer: {'music_item': 'song', 'artist': 'Yutaka Ozaki', 'playlist_owner': 'my', 'playlist': 'this is miles davis'}\n",
            "Predicted: {'artist': None}\n",
            "\n",
            "Question: Add the album to the The Sweet Suite playlist.\n",
            "Gold answer: {'music_item': 'album', 'playlist': 'The Sweet Suite'}\n",
            "Predicted: {'playlist': None}\n",
            "\n"
          ]
        }
      ]
    }
  ]
}